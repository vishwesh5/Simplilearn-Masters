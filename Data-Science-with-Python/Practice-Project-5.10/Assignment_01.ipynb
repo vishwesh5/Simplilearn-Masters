{
 "cells": [
  {
   "cell_type": "markdown",
   "metadata": {},
   "source": [
    "<img src=\"http://cfs22.simplicdn.net/ice9/new_logo.svgz \"/>\n",
    "\n",
    "# Assignment 01: Evaluate the GDP Dataset\n",
    "\n",
    "*The comments/sections provided are your cues to perform the assignment. You don't need to limit yourself to the number of rows/cells provided. You can add additional rows in each section to add more lines of code.*\n",
    "\n",
    "*If at any point in time you need help on solving this assignment, view our demo video to understand the different steps of the code.*\n",
    "\n",
    "**Happy coding!**\n",
    "\n",
    "* * *"
   ]
  },
  {
   "cell_type": "markdown",
   "metadata": {},
   "source": [
    "#### 1: View and add the dataset"
   ]
  },
  {
   "cell_type": "code",
   "execution_count": 1,
   "metadata": {},
   "outputs": [],
   "source": [
    "#Import required library\n",
    "import numpy as np"
   ]
  },
  {
   "cell_type": "code",
   "execution_count": 2,
   "metadata": {},
   "outputs": [],
   "source": [
    "#Manually add the dataset\n",
    "countries = ['Algeria','Angola','Argentina','Australia','Austria','Bahamas','Bangladesh','Belarus','Belgium','Bhutan','Brazil','Bulgaria','Cambodia','Cameroon','Chile','China','Colombia','Cyprus','Denmark','El Salvador','Estonia','Ethiopia','Fiji','Finland','France','Georgia','Ghana','Grenada','Guinea','Haiti','Honduras','Hungary','India','Indonesia','Ireland','Italy','Japan','Kenya', 'South Korea','Liberia','Malaysia','Mexico', 'Morocco','Nepal','New Zealand','Norway','Pakistan', 'Peru','Qatar','Russia','Singapore','South Africa','Spain','Sweden','Switzerland','Thailand', 'United Arab Emirates','United Kingdom','United States','Uruguay','Venezuela','Vietnam','Zimbabwe']"
   ]
  },
  {
   "cell_type": "code",
   "execution_count": 3,
   "metadata": {},
   "outputs": [],
   "source": [
    "GDP = [2255.225482,629.9553062,11601.63022,25306.82494,27266.40335,19466.99052,588.3691778,2890.345675,24733.62696,1445.760002,4803.398244,2618.876037,590.4521124,665.7982328,7122.938458,2639.54156,3362.4656,15378.16704,30860.12808,2579.115607,6525.541272,229.6769525,2242.689259,27570.4852,23016.84778,1334.646773,402.6953275,6047.200797,394.1156638,385.5793827,1414.072488,5745.981529,837.7464011,1206.991065,27715.52837,18937.24998,39578.07441,478.2194906,16684.21278,279.2204061,5345.213415,6288.25324,1908.304416,274.8728621,14646.42094,40034.85063,672.1547506,3359.517402,36152.66676,3054.727742,33529.83052,3825.093781,15428.32098,33630.24604,39170.41371,2699.123242,21058.43643,28272.40661,37691.02733,9581.05659,5671.912202,757.4009286,347.7456605]"
   ]
  },
  {
   "cell_type": "markdown",
   "metadata": {
    "collapsed": true
   },
   "source": [
    "#### 2: Find and print the name of the country with the highest GDP"
   ]
  },
  {
   "cell_type": "code",
   "execution_count": 4,
   "metadata": {},
   "outputs": [
    {
     "data": {
      "text/plain": [
       "45"
      ]
     },
     "execution_count": 4,
     "metadata": {},
     "output_type": "execute_result"
    }
   ],
   "source": [
    "#Use the argmax() method to find the highest GDP\n",
    "np.argmax(GDP)"
   ]
  },
  {
   "cell_type": "code",
   "execution_count": 5,
   "metadata": {},
   "outputs": [
    {
     "name": "stdout",
     "output_type": "stream",
     "text": [
      "Highest GDP: 40034.85063\n"
     ]
    }
   ],
   "source": [
    "print(\"Highest GDP: {}\".format(GDP[np.argmax(GDP)]))"
   ]
  },
  {
   "cell_type": "code",
   "execution_count": 6,
   "metadata": {},
   "outputs": [
    {
     "name": "stdout",
     "output_type": "stream",
     "text": [
      "Country with highest GDP: Norway\n"
     ]
    }
   ],
   "source": [
    "#Print the name of the country\n",
    "print(\"Country with highest GDP: {}\".format(countries[np.argmax(GDP)]))"
   ]
  },
  {
   "cell_type": "markdown",
   "metadata": {},
   "source": [
    "#### 3: Find and print the name of the country with the lowest GDP"
   ]
  },
  {
   "cell_type": "code",
   "execution_count": 7,
   "metadata": {},
   "outputs": [
    {
     "name": "stdout",
     "output_type": "stream",
     "text": [
      "Lowest GDP: 229.6769525\n"
     ]
    }
   ],
   "source": [
    "#Use the argmin() method to find the lowest GDP\n",
    "print(\"Lowest GDP: {}\".format(GDP[np.argmin(GDP)]))"
   ]
  },
  {
   "cell_type": "code",
   "execution_count": 8,
   "metadata": {},
   "outputs": [
    {
     "name": "stdout",
     "output_type": "stream",
     "text": [
      "Country with minimum GDP: Ethiopia\n"
     ]
    }
   ],
   "source": [
    "#Print the name of the country\n",
    "print(\"Country with minimum GDP: {}\".format(countries[np.argmin(GDP)]))"
   ]
  },
  {
   "cell_type": "markdown",
   "metadata": {},
   "source": [
    "#### 4: Print out text ('evaluating country') and input value ('country name') iteratively"
   ]
  },
  {
   "cell_type": "code",
   "execution_count": 9,
   "metadata": {},
   "outputs": [
    {
     "name": "stdout",
     "output_type": "stream",
     "text": [
      "Evaluating country: Algeria\n",
      "Evaluating country: Angola\n",
      "Evaluating country: Argentina\n",
      "Evaluating country: Australia\n",
      "Evaluating country: Austria\n",
      "Evaluating country: Bahamas\n",
      "Evaluating country: Bangladesh\n",
      "Evaluating country: Belarus\n",
      "Evaluating country: Belgium\n",
      "Evaluating country: Bhutan\n",
      "Evaluating country: Brazil\n",
      "Evaluating country: Bulgaria\n",
      "Evaluating country: Cambodia\n",
      "Evaluating country: Cameroon\n",
      "Evaluating country: Chile\n",
      "Evaluating country: China\n",
      "Evaluating country: Colombia\n",
      "Evaluating country: Cyprus\n",
      "Evaluating country: Denmark\n",
      "Evaluating country: El Salvador\n",
      "Evaluating country: Estonia\n",
      "Evaluating country: Ethiopia\n",
      "Evaluating country: Fiji\n",
      "Evaluating country: Finland\n",
      "Evaluating country: France\n",
      "Evaluating country: Georgia\n",
      "Evaluating country: Ghana\n",
      "Evaluating country: Grenada\n",
      "Evaluating country: Guinea\n",
      "Evaluating country: Haiti\n",
      "Evaluating country: Honduras\n",
      "Evaluating country: Hungary\n",
      "Evaluating country: India\n",
      "Evaluating country: Indonesia\n",
      "Evaluating country: Ireland\n",
      "Evaluating country: Italy\n",
      "Evaluating country: Japan\n",
      "Evaluating country: Kenya\n",
      "Evaluating country: South Korea\n",
      "Evaluating country: Liberia\n",
      "Evaluating country: Malaysia\n",
      "Evaluating country: Mexico\n",
      "Evaluating country: Morocco\n",
      "Evaluating country: Nepal\n",
      "Evaluating country: New Zealand\n",
      "Evaluating country: Norway\n",
      "Evaluating country: Pakistan\n",
      "Evaluating country: Peru\n",
      "Evaluating country: Qatar\n",
      "Evaluating country: Russia\n",
      "Evaluating country: Singapore\n",
      "Evaluating country: South Africa\n",
      "Evaluating country: Spain\n",
      "Evaluating country: Sweden\n",
      "Evaluating country: Switzerland\n",
      "Evaluating country: Thailand\n",
      "Evaluating country: United Arab Emirates\n",
      "Evaluating country: United Kingdom\n",
      "Evaluating country: United States\n",
      "Evaluating country: Uruguay\n",
      "Evaluating country: Venezuela\n",
      "Evaluating country: Vietnam\n",
      "Evaluating country: Zimbabwe\n"
     ]
    }
   ],
   "source": [
    "#Use a for loop to print the required output\n",
    "for country in countries:\n",
    "    print(\"Evaluating country: {}\".format(country))"
   ]
  },
  {
   "cell_type": "markdown",
   "metadata": {},
   "source": [
    "#### 5: Print out the entire list of the countries with their GDPs"
   ]
  },
  {
   "cell_type": "code",
   "execution_count": 11,
   "metadata": {},
   "outputs": [
    {
     "name": "stdout",
     "output_type": "stream",
     "text": [
      "Country: Algeria    GDP: 2255.225482\n",
      "Country: Angola    GDP: 629.9553062\n",
      "Country: Argentina    GDP: 11601.63022\n",
      "Country: Australia    GDP: 25306.82494\n",
      "Country: Austria    GDP: 27266.40335\n",
      "Country: Bahamas    GDP: 19466.99052\n",
      "Country: Bangladesh    GDP: 588.3691778\n",
      "Country: Belarus    GDP: 2890.345675\n",
      "Country: Belgium    GDP: 24733.62696\n",
      "Country: Bhutan    GDP: 1445.760002\n",
      "Country: Brazil    GDP: 4803.398244\n",
      "Country: Bulgaria    GDP: 2618.876037\n",
      "Country: Cambodia    GDP: 590.4521124\n",
      "Country: Cameroon    GDP: 665.7982328\n",
      "Country: Chile    GDP: 7122.938458\n",
      "Country: China    GDP: 2639.54156\n",
      "Country: Colombia    GDP: 3362.4656\n",
      "Country: Cyprus    GDP: 15378.16704\n",
      "Country: Denmark    GDP: 30860.12808\n",
      "Country: El Salvador    GDP: 2579.115607\n",
      "Country: Estonia    GDP: 6525.541272\n",
      "Country: Ethiopia    GDP: 229.6769525\n",
      "Country: Fiji    GDP: 2242.689259\n",
      "Country: Finland    GDP: 27570.4852\n",
      "Country: France    GDP: 23016.84778\n",
      "Country: Georgia    GDP: 1334.646773\n",
      "Country: Ghana    GDP: 402.6953275\n",
      "Country: Grenada    GDP: 6047.200797\n",
      "Country: Guinea    GDP: 394.1156638\n",
      "Country: Haiti    GDP: 385.5793827\n",
      "Country: Honduras    GDP: 1414.072488\n",
      "Country: Hungary    GDP: 5745.981529\n",
      "Country: India    GDP: 837.7464011\n",
      "Country: Indonesia    GDP: 1206.991065\n",
      "Country: Ireland    GDP: 27715.52837\n",
      "Country: Italy    GDP: 18937.24998\n",
      "Country: Japan    GDP: 39578.07441\n",
      "Country: Kenya    GDP: 478.2194906\n",
      "Country: South Korea    GDP: 16684.21278\n",
      "Country: Liberia    GDP: 279.2204061\n",
      "Country: Malaysia    GDP: 5345.213415\n",
      "Country: Mexico    GDP: 6288.25324\n",
      "Country: Morocco    GDP: 1908.304416\n",
      "Country: Nepal    GDP: 274.8728621\n",
      "Country: New Zealand    GDP: 14646.42094\n",
      "Country: Norway    GDP: 40034.85063\n",
      "Country: Pakistan    GDP: 672.1547506\n",
      "Country: Peru    GDP: 3359.517402\n",
      "Country: Qatar    GDP: 36152.66676\n",
      "Country: Russia    GDP: 3054.727742\n",
      "Country: Singapore    GDP: 33529.83052\n",
      "Country: South Africa    GDP: 3825.093781\n",
      "Country: Spain    GDP: 15428.32098\n",
      "Country: Sweden    GDP: 33630.24604\n",
      "Country: Switzerland    GDP: 39170.41371\n",
      "Country: Thailand    GDP: 2699.123242\n",
      "Country: United Arab Emirates    GDP: 21058.43643\n",
      "Country: United Kingdom    GDP: 28272.40661\n",
      "Country: United States    GDP: 37691.02733\n",
      "Country: Uruguay    GDP: 9581.05659\n",
      "Country: Venezuela    GDP: 5671.912202\n",
      "Country: Vietnam    GDP: 757.4009286\n",
      "Country: Zimbabwe    GDP: 347.7456605\n"
     ]
    }
   ],
   "source": [
    "#Use a for loop to print the required list\n",
    "for index in range(len(countries)):\n",
    "    print(\"Country: {}    GDP: {}\".format(countries[index],GDP[index]))"
   ]
  },
  {
   "cell_type": "markdown",
   "metadata": {},
   "source": [
    "#### 6: Print the following:\n",
    "1. Highest GPD value\n",
    "2. Lowest GDP value\n",
    "3. Mean GDP value\n",
    "4. Standardized GDP value\n",
    "5. Sum of all the GDPs"
   ]
  },
  {
   "cell_type": "code",
   "execution_count": 12,
   "metadata": {},
   "outputs": [
    {
     "name": "stdout",
     "output_type": "stream",
     "text": [
      "Highest GDP value: 40034.85063\n"
     ]
    }
   ],
   "source": [
    "print(\"Highest GDP value: {}\".format(max(GDP)))"
   ]
  },
  {
   "cell_type": "code",
   "execution_count": 13,
   "metadata": {},
   "outputs": [
    {
     "name": "stdout",
     "output_type": "stream",
     "text": [
      "Lowest GDP value: 229.6769525\n"
     ]
    }
   ],
   "source": [
    "print(\"Lowest GDP value: {}\".format(min(GDP)))"
   ]
  },
  {
   "cell_type": "code",
   "execution_count": 14,
   "metadata": {},
   "outputs": [
    {
     "name": "stdout",
     "output_type": "stream",
     "text": [
      "Mean GDP value: 11289.409271639683\n"
     ]
    }
   ],
   "source": [
    "print(\"Mean GDP value: {}\".format(np.mean(GDP)))"
   ]
  },
  {
   "cell_type": "code",
   "execution_count": 15,
   "metadata": {},
   "outputs": [
    {
     "name": "stdout",
     "output_type": "stream",
     "text": [
      "Standardized GDP value: 12743.828910617945\n"
     ]
    }
   ],
   "source": [
    "print(\"Standardized GDP value: {}\".format(np.array(GDP).std()))"
   ]
  },
  {
   "cell_type": "code",
   "execution_count": 16,
   "metadata": {},
   "outputs": [
    {
     "name": "stdout",
     "output_type": "stream",
     "text": [
      "Sum of all the GDPs: 711232.7841133\n"
     ]
    }
   ],
   "source": [
    "print(\"Sum of all the GDPs: {}\".format(np.array(GDP).sum()))"
   ]
  }
 ],
 "metadata": {
  "kernelspec": {
   "display_name": "Python 3",
   "language": "python",
   "name": "python3"
  },
  "language_info": {
   "codemirror_mode": {
    "name": "ipython",
    "version": 3
   },
   "file_extension": ".py",
   "mimetype": "text/x-python",
   "name": "python",
   "nbconvert_exporter": "python",
   "pygments_lexer": "ipython3",
   "version": "3.7.1"
  }
 },
 "nbformat": 4,
 "nbformat_minor": 1
}
