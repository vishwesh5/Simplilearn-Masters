{
 "cells": [
  {
   "cell_type": "markdown",
   "metadata": {},
   "source": [
    "<img src=\"http://cfs22.simplicdn.net/ice9/new_logo.svgz \"/>\n",
    "\n",
    "# Assignment 02: Evaluate the Summer Olympics, London 2012 dataset\n",
    "\n",
    "*The comments/sections provided are your cues to perform the assignment. You don't need to limit yourself to the number of rows/cells provided. You can add additional rows in each section to add more lines of code.*\n",
    "\n",
    "*If at any point in time you need help on solving this assignment, view our demo video to understand the different steps of the code.*\n",
    "\n",
    "**Happy coding!**\n",
    "\n",
    "* * *"
   ]
  },
  {
   "cell_type": "markdown",
   "metadata": {},
   "source": [
    "#### 1: View and add the dataset"
   ]
  },
  {
   "cell_type": "code",
   "execution_count": 1,
   "metadata": {},
   "outputs": [],
   "source": [
    "#Import the necessary library\n",
    "import numpy as np"
   ]
  },
  {
   "cell_type": "code",
   "execution_count": 3,
   "metadata": {},
   "outputs": [],
   "source": [
    "#Manually add the Summer Olympics, London 2012 dataset as arrays\n",
    "countries = np.array([\"Great Britain\",\n",
    "                      \"China\",\n",
    "                      \"Russia\",\n",
    "                      \"United States\",\n",
    "                      \"Korea\",\n",
    "                      \"Japan\",\n",
    "                      \"Germany\"])"
   ]
  },
  {
   "cell_type": "code",
   "execution_count": 4,
   "metadata": {},
   "outputs": [],
   "source": [
    "country_codes = np.array([\"GBR\",\n",
    "                          \"CHN\",\n",
    "                          \"RUS\",\n",
    "                          \"US\",\n",
    "                          \"KOR\",\n",
    "                          \"JPN\",\n",
    "                          \"GER\"])"
   ]
  },
  {
   "cell_type": "code",
   "execution_count": 5,
   "metadata": {},
   "outputs": [],
   "source": [
    "year = np.array([2012,\n",
    "                 2012,\n",
    "                 2012,\n",
    "                 2012,\n",
    "                 2012,\n",
    "                 2012,\n",
    "                 2012])"
   ]
  },
  {
   "cell_type": "code",
   "execution_count": 6,
   "metadata": {},
   "outputs": [],
   "source": [
    "gold = np.array([29,\n",
    "                 38,\n",
    "                 24,\n",
    "                 46,\n",
    "                 13,\n",
    "                 7,\n",
    "                 11])"
   ]
  },
  {
   "cell_type": "code",
   "execution_count": 7,
   "metadata": {},
   "outputs": [],
   "source": [
    "silver = np.array([17,\n",
    "                   28,\n",
    "                   25,\n",
    "                   28,\n",
    "                   8,\n",
    "                   14,\n",
    "                   11])"
   ]
  },
  {
   "cell_type": "code",
   "execution_count": 8,
   "metadata": {},
   "outputs": [],
   "source": [
    "bronze = np.array([19,\n",
    "                   22,\n",
    "                   32,\n",
    "                   29,\n",
    "                   7,\n",
    "                   17,\n",
    "                   14])"
   ]
  },
  {
   "cell_type": "markdown",
   "metadata": {},
   "source": [
    "#### Find the country with maximum gold medals"
   ]
  },
  {
   "cell_type": "code",
   "execution_count": 9,
   "metadata": {},
   "outputs": [
    {
     "name": "stdout",
     "output_type": "stream",
     "text": [
      "Maximum number of gold models: 46\n"
     ]
    }
   ],
   "source": [
    "#Use the argmax() method to find the highest number of gold medals\n",
    "print(\"Maximum number of gold models: {}\".format(gold[np.argmax(gold)]))"
   ]
  },
  {
   "cell_type": "code",
   "execution_count": 10,
   "metadata": {},
   "outputs": [
    {
     "name": "stdout",
     "output_type": "stream",
     "text": [
      "Country with maximum number of gold models: United States\n"
     ]
    }
   ],
   "source": [
    "#Print the name of the country\n",
    "print(\"Country with maximum number of gold models: {}\".format(countries[np.argmax(gold)]))"
   ]
  },
  {
   "cell_type": "markdown",
   "metadata": {},
   "source": [
    "#### Find the countries with more than 20 gold medals"
   ]
  },
  {
   "cell_type": "code",
   "execution_count": 11,
   "metadata": {},
   "outputs": [],
   "source": [
    "#Use Boolean indexing technique to find the required output\n",
    "countries_with_more_than_20_gold = gold > 20"
   ]
  },
  {
   "cell_type": "code",
   "execution_count": 12,
   "metadata": {},
   "outputs": [],
   "source": [
    "countries_with_more_than_20_gold = countries[countries_with_more_than_20_gold]"
   ]
  },
  {
   "cell_type": "code",
   "execution_count": 13,
   "metadata": {},
   "outputs": [
    {
     "name": "stdout",
     "output_type": "stream",
     "text": [
      "Great Britain\n",
      "China\n",
      "Russia\n",
      "United States\n"
     ]
    }
   ],
   "source": [
    "for country in countries_with_more_than_20_gold:\n",
    "    print(country)"
   ]
  },
  {
   "cell_type": "markdown",
   "metadata": {},
   "source": [
    "#### Evaluate the dataset and print the name of each country with its gold medals and total number of medals"
   ]
  },
  {
   "cell_type": "code",
   "execution_count": 14,
   "metadata": {},
   "outputs": [
    {
     "name": "stdout",
     "output_type": "stream",
     "text": [
      "Country: Great Britain, Gold: 29, Total Medals: 65\n",
      "Country: China, Gold: 38, Total Medals: 88\n",
      "Country: Russia, Gold: 24, Total Medals: 81\n",
      "Country: United States, Gold: 46, Total Medals: 103\n",
      "Country: Korea, Gold: 13, Total Medals: 28\n",
      "Country: Japan, Gold: 7, Total Medals: 38\n",
      "Country: Germany, Gold: 11, Total Medals: 36\n"
     ]
    }
   ],
   "source": [
    "#Use a for loop to create the required output\n",
    "for index in range(len(countries)):\n",
    "    gold_medals = gold[index]\n",
    "    country_name = countries[index]\n",
    "    silver_medals = silver[index]\n",
    "    bronze_medals = bronze[index]\n",
    "    total_medals = gold_medals + silver_medals + bronze_medals\n",
    "    print(\"Country: {}, Gold: {}, Total Medals: {}\".format(country_name,\n",
    "                                                          gold_medals,\n",
    "                                                          total_medals))"
   ]
  }
 ],
 "metadata": {
  "kernelspec": {
   "display_name": "Python 3",
   "language": "python",
   "name": "python3"
  },
  "language_info": {
   "codemirror_mode": {
    "name": "ipython",
    "version": 3
   },
   "file_extension": ".py",
   "mimetype": "text/x-python",
   "name": "python",
   "nbconvert_exporter": "python",
   "pygments_lexer": "ipython3",
   "version": "3.7.1"
  }
 },
 "nbformat": 4,
 "nbformat_minor": 1
}
