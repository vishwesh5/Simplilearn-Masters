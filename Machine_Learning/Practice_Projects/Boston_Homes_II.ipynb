{
  "nbformat": 4,
  "nbformat_minor": 0,
  "metadata": {
    "colab": {
      "name": "Boston_Homes_II.ipynb",
      "provenance": [],
      "authorship_tag": "ABX9TyPKz2HR52FxMQYrHgq/AvEn",
      "include_colab_link": true
    },
    "kernelspec": {
      "name": "python3",
      "display_name": "Python 3"
    }
  },
  "cells": [
    {
      "cell_type": "markdown",
      "metadata": {
        "id": "view-in-github",
        "colab_type": "text"
      },
      "source": [
        "<a href=\"https://colab.research.google.com/github/vishwesh5/Simplilearn-Masters/blob/master/Machine_Learning/Practice_Projects/Boston_Homes_II.ipynb\" target=\"_parent\"><img src=\"https://colab.research.google.com/assets/colab-badge.svg\" alt=\"Open In Colab\"/></a>"
      ]
    },
    {
      "cell_type": "markdown",
      "metadata": {
        "id": "HQg9H3y-9jPF"
      },
      "source": [
        "# Boston Homes II\n",
        "\n",
        "## DESCRIPTION\n",
        "\n",
        "For the Boston dataset used earlier, the team also wants to cross-reference results using regularization techniques.\n",
        "\n",
        "## Objective:\n",
        "\n",
        "- Build a predictive model using Ridge, Lasso, and ElasticNet.\n",
        "- Compare the models on the basis of accuracy."
      ]
    },
    {
      "cell_type": "code",
      "metadata": {
        "id": "0XP0upXy9fgN"
      },
      "source": [
        "# Import modules\n",
        "import sklearn\n",
        "from sklearn.datasets import load_boston\n",
        "import numpy as np\n",
        "import seaborn as sns\n",
        "import matplotlib.pyplot as plt\n",
        "import pandas as pd\n",
        "%matplotlib inline"
      ],
      "execution_count": 1,
      "outputs": []
    },
    {
      "cell_type": "code",
      "metadata": {
        "id": "ti0IyRAn9pNe"
      },
      "source": [
        "data = load_boston()"
      ],
      "execution_count": 2,
      "outputs": []
    },
    {
      "cell_type": "code",
      "metadata": {
        "id": "E58QM_pD9qCN"
      },
      "source": [
        "X = data.data\n",
        "y = data.target"
      ],
      "execution_count": 3,
      "outputs": []
    },
    {
      "cell_type": "code",
      "metadata": {
        "id": "iuxKwztG9wIX"
      },
      "source": [
        "from sklearn.model_selection import train_test_split\n",
        "X_train,X_test,y_train,y_test = train_test_split(X,y)"
      ],
      "execution_count": 4,
      "outputs": []
    },
    {
      "cell_type": "code",
      "metadata": {
        "id": "0Bjd397E9x9b"
      },
      "source": [
        "from sklearn.linear_model import Ridge, Lasso, ElasticNet\n",
        "from sklearn.metrics import mean_squared_error"
      ],
      "execution_count": 6,
      "outputs": []
    },
    {
      "cell_type": "code",
      "metadata": {
        "id": "tGqU28yL9_U3"
      },
      "source": [
        "def trainAndEvaluateModel(model):\n",
        "  model.fit(X_train,y_train)\n",
        "  print(\"Train RMSE = {}\".format(np.sqrt(mean_squared_error(y_train,model.predict(X_train)))))\n",
        "  print(\"Test RMSE = {}\".format(np.sqrt(mean_squared_error(y_test,model.predict(X_test)))))"
      ],
      "execution_count": 8,
      "outputs": []
    },
    {
      "cell_type": "code",
      "metadata": {
        "colab": {
          "base_uri": "https://localhost:8080/"
        },
        "id": "I7PWRl8o-XDx",
        "outputId": "13be4361-8a5e-4a2b-fb24-bdb340598a99"
      },
      "source": [
        "trainAndEvaluateModel(Ridge())"
      ],
      "execution_count": 9,
      "outputs": [
        {
          "output_type": "stream",
          "text": [
            "Train RMSE = 4.839450343031307\n",
            "Test RMSE = 4.3208066683243365\n"
          ],
          "name": "stdout"
        }
      ]
    },
    {
      "cell_type": "code",
      "metadata": {
        "colab": {
          "base_uri": "https://localhost:8080/"
        },
        "id": "o4Vr2UX6-bhI",
        "outputId": "ec37aeaf-49b1-49c6-c448-2e462a83cd9a"
      },
      "source": [
        "trainAndEvaluateModel(Lasso())"
      ],
      "execution_count": 10,
      "outputs": [
        {
          "output_type": "stream",
          "text": [
            "Train RMSE = 5.3772235109465285\n",
            "Test RMSE = 4.848439505892654\n"
          ],
          "name": "stdout"
        }
      ]
    },
    {
      "cell_type": "code",
      "metadata": {
        "colab": {
          "base_uri": "https://localhost:8080/"
        },
        "id": "qZSRdYTJ-dP8",
        "outputId": "7577b7de-2b44-49ae-fc46-74b5c953d52a"
      },
      "source": [
        "trainAndEvaluateModel(ElasticNet())"
      ],
      "execution_count": 11,
      "outputs": [
        {
          "output_type": "stream",
          "text": [
            "Train RMSE = 5.3077260089201665\n",
            "Test RMSE = 4.7637825081969805\n"
          ],
          "name": "stdout"
        }
      ]
    },
    {
      "cell_type": "markdown",
      "metadata": {
        "id": "NFQGUiOl-h52"
      },
      "source": [
        "In terms of model accuracy:\n",
        "\n",
        "**Ridge > ElasticNet > Lasso**"
      ]
    },
    {
      "cell_type": "code",
      "metadata": {
        "id": "g1UPqNGA-eZD"
      },
      "source": [
        ""
      ],
      "execution_count": null,
      "outputs": []
    }
  ]
}